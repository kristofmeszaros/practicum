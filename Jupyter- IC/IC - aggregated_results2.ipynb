{
 "cells": [
  {
   "cell_type": "markdown",
   "metadata": {},
   "source": [
    "# aggregated results"
   ]
  },
  {
   "cell_type": "code",
   "execution_count": null,
   "metadata": {
    "ExecuteTime": {
     "end_time": "2023-04-12T08:44:27.205000Z",
     "start_time": "2023-04-12T08:44:24.187671Z"
    }
   },
   "outputs": [],
   "source": [
    "import os\n",
    "import pandas as pd\n",
    "\n",
    "# Set the path to the folder containing the CSV files\n",
    "RESULTS_FOLDER = '/kristof.meszaros/pract/aggregated_results'\n",
    "\n",
    "# Create empty lists for each type of file\n",
    "mice_best_overall_files = []\n",
    "mice_best_for_each_files = []\n",
    "categorical_best_for_each_files = []\n",
    "categorical_all_files = []\n",
    "\n",
    "# Loop through all files in the folder\n",
    "for file_name in os.listdir(RESULTS_FOLDER):\n",
    "    # Check if the file is a CSV file\n",
    "    if file_name.endswith('.csv'):\n",
    "        # Get the category number and threshold from the file name\n",
    "        category_number = int(file_name.split('_')[0][3:])\n",
    "        threshold = int(file_name.split('_')[1][9:])\n",
    "        \n",
    "        # Read in the CSV file and add two columns for category number and threshold\n",
    "        df = pd.read_csv(os.path.join(RESULTS_FOLDER, file_name))\n",
    "        df.insert(0,'category_number', category_number)\n",
    "        df.insert(1,'threshold', threshold)\n",
    "        \n",
    "        # Append the DataFrame to the appropriate list based on the file name pattern\n",
    "        if 'mice_best_overall' in file_name:\n",
    "            mice_best_overall_files.append(df)\n",
    "        elif 'mice_best_for_each' in file_name:\n",
    "            mice_best_for_each_files.append(df)\n",
    "        elif 'categorical_best_for_each' in file_name:\n",
    "            categorical_best_for_each_files.append(df)\n",
    "        elif 'categorical_all' in file_name:\n",
    "            categorical_all_files.append(df)\n",
    "            \n",
    "# Concatenate the DataFrames for each type of file into a single DataFrame\n",
    "mice_best_overall_df = pd.concat(mice_best_overall_files, ignore_index=True)\n",
    "mice_best_for_each_df = pd.concat(mice_best_for_each_files, ignore_index=True)\n",
    "categorical_best_for_each_df = pd.concat(categorical_best_for_each_files, ignore_index=True)\n",
    "categorical_all_df = pd.concat(categorical_all_files, ignore_index=True)"
   ]
  },
  {
   "cell_type": "markdown",
   "metadata": {},
   "source": [
    "##  mice_best_overall_df\n",
    "for each cat-threshold, the overall best MICE estimator's performance on each numerical column"
   ]
  },
  {
   "cell_type": "code",
   "execution_count": null,
   "metadata": {
    "ExecuteTime": {
     "end_time": "2023-04-12T08:32:49.475047Z",
     "start_time": "2023-04-12T08:32:49.411798Z"
    }
   },
   "outputs": [],
   "source": [
    "mice_best_overall_df"
   ]
  },
  {
   "cell_type": "code",
   "execution_count": null,
   "metadata": {
    "ExecuteTime": {
     "end_time": "2023-04-12T12:18:21.680035Z",
     "start_time": "2023-04-12T12:18:21.626459Z"
    },
    "scrolled": true
   },
   "outputs": [],
   "source": [
    "sumdf=mice_best_overall_df[mice_best_overall_df.threshold==100].groupby([\"category_number\",\"threshold\"]).count()\n",
    "sumdf.sort_values(by='column', ascending=False)"
   ]
  },
  {
   "cell_type": "code",
   "execution_count": null,
   "metadata": {
    "ExecuteTime": {
     "end_time": "2023-04-12T09:57:29.518260Z",
     "start_time": "2023-04-12T09:57:29.020112Z"
    }
   },
   "outputs": [],
   "source": [
    "# Group the data by threshold and best_overall_model, and count the number of occurrences\n",
    "counts = df.groupby(['threshold', 'best_overall_model']).count()['category_number']\n",
    "\n",
    "# Compute the total count for each threshold\n",
    "totals = counts.groupby(level=0).sum()\n",
    "\n",
    "# Compute the percentage of each count out of its total\n",
    "ratios = counts / totals\n",
    "\n",
    "# Reshape the data so that each best_overall_model is a column\n",
    "stacked = ratios.unstack()\n",
    "\n",
    "# Create a stacked bar chart\n",
    "ax = stacked.plot(kind='bar', stacked=True, legend=None)\n",
    "\n",
    "# Set the chart title and axes labels\n",
    "plt.title('Best Overall Models by Threshold')\n",
    "plt.xlabel('Threshold')\n",
    "plt.ylabel('Best MICE estimator for percentage of datasets')\n",
    "\n",
    "# Add color coding explanation outside of the chart\n",
    "handles, labels = ax.get_legend_handles_labels()\n",
    "ax.figure.legend(handles, labels, bbox_to_anchor=(1.05, 1), loc='upper left')\n",
    "\n",
    "# Display the chart\n",
    "plt.show()"
   ]
  },
  {
   "cell_type": "code",
   "execution_count": null,
   "metadata": {
    "ExecuteTime": {
     "end_time": "2023-04-12T13:42:01.778703Z",
     "start_time": "2023-04-12T13:42:01.151650Z"
    }
   },
   "outputs": [],
   "source": [
    "# Choose a random category number\n",
    "category_number = 1531\n",
    "\n",
    "# Get the subset of data for the chosen category number\n",
    "subset = df[df['category_number'] == category_number]\n",
    "\n",
    "# Get the 10 columns with the highest correlation values across all thresholds\n",
    "top_columns = subset.groupby('column').mean()['correlation'].nlargest(10).index.tolist()\n",
    "\n",
    "# Initialize empty lists to store data\n",
    "avg_rmse = []\n",
    "avg_mae = []\n",
    "avg_corr = []\n",
    "\n",
    "# Loop through each threshold and calculate the average RMSE, MAE, and correlation for each column\n",
    "for threshold in [30, 50, 100]:\n",
    "    # Filter the subset of the DataFrame for the specified threshold\n",
    "    threshold_subset = subset[subset['threshold'] == threshold]\n",
    "    \n",
    "    # Loop through each column and calculate the average RMSE, MAE, and correlation\n",
    "    for column in top_columns:\n",
    "        # Filter the subset of the DataFrame for the specified column\n",
    "        column_subset = threshold_subset[threshold_subset['column'] == column]\n",
    "        \n",
    "        # Calculate the average RMSE, MAE, and correlation for the specified column and threshold\n",
    "        avg_rmse.append(column_subset['rmse'].mean())\n",
    "        avg_mae.append(column_subset['mae'].mean())\n",
    "        avg_corr.append(column_subset['correlation'].mean())\n",
    "\n",
    "# Reshape the data so that each column is a row and each threshold is a column\n",
    "avg_values = np.array([avg_rmse]).T.reshape(10, 3)\n",
    "\n",
    "# Set the colors for each threshold\n",
    "colors = ['tab:blue', 'tab:orange', 'tab:green']\n",
    "\n",
    "# Set the width of each bar and the positions of the x ticks\n",
    "bar_width = 0.2\n",
    "x_pos = np.arange(10)\n",
    "\n",
    "# Create a bar chart with three bars for each column, one for each threshold\n",
    "thresholds = [30,50,100]\n",
    "for i in range(3):\n",
    "    plt.bar(x_pos + (i - 1) * bar_width, avg_values[:, i], width=bar_width, \n",
    "            label=f'Threshold {thresholds[i]}', color=colors[i])\n",
    "\n",
    "# Set the chart title and axes labels\n",
    "plt.title(f'Average RMSE for columns in Category {category_number}')\n",
    "plt.xlabel('Column')\n",
    "plt.ylabel('RMSE')\n",
    "plt.xticks(x_pos, top_columns, rotation=45, ha='right')\n",
    "plt.legend()\n",
    "\n",
    "# Display the chart\n",
    "plt.show()"
   ]
  },
  {
   "cell_type": "code",
   "execution_count": null,
   "metadata": {},
   "outputs": [],
   "source": []
  },
  {
   "cell_type": "markdown",
   "metadata": {},
   "source": [
    "##  mice_best_for_each_df\n",
    "for each cat-threshold-column, the best performing estimator in MICE (we chose the above for fitting, but this\n",
    "might be intertesting to see)"
   ]
  },
  {
   "cell_type": "code",
   "execution_count": null,
   "metadata": {
    "ExecuteTime": {
     "end_time": "2023-04-12T14:04:27.476835Z",
     "start_time": "2023-04-12T14:04:27.452315Z"
    }
   },
   "outputs": [],
   "source": [
    "df=mice_best_for_each_df\n",
    "df"
   ]
  },
  {
   "cell_type": "code",
   "execution_count": null,
   "metadata": {
    "ExecuteTime": {
     "end_time": "2023-04-12T14:04:47.550933Z",
     "start_time": "2023-04-12T14:04:47.505528Z"
    },
    "scrolled": true
   },
   "outputs": [],
   "source": [
    "df[df.category_number==1531]"
   ]
  },
  {
   "cell_type": "code",
   "execution_count": null,
   "metadata": {
    "ExecuteTime": {
     "end_time": "2023-04-12T14:20:18.330113Z",
     "start_time": "2023-04-12T14:20:17.790704Z"
    }
   },
   "outputs": [],
   "source": [
    "# Group the data by threshold and best_overall_model, and count the number of occurrences\n",
    "counts = df.groupby(['threshold', 'best_model']).count()['category_number']\n",
    "\n",
    "# Compute the total count for each threshold\n",
    "totals = counts.groupby(level=0).sum()\n",
    "\n",
    "# Compute the percentage of each count out of its total\n",
    "ratios = counts / totals\n",
    "\n",
    "# Reshape the data so that each best_overall_model is a column\n",
    "stacked = ratios.unstack()\n",
    "\n",
    "# Create a stacked bar chart\n",
    "ax = stacked.plot(kind='bar', stacked=True, legend=None)\n",
    "\n",
    "# Set the chart title and axes labels\n",
    "plt.title('MICE best performing models column level,  by threshold')\n",
    "plt.xlabel('Threshold')\n",
    "plt.ylabel('Best performing model for percentage of columns')\n",
    "\n",
    "# Add color coding explanation outside of the chart\n",
    "handles, labels = ax.get_legend_handles_labels()\n",
    "ax.figure.legend(handles, labels, bbox_to_anchor=(1.05, 1), loc='upper left')\n",
    "\n",
    "# Display the chart\n",
    "plt.show()"
   ]
  },
  {
   "cell_type": "markdown",
   "metadata": {},
   "source": [
    "##  categorical_best_for_each_df\n",
    "for each cat-threshold-column, showing the performance of each classifier"
   ]
  },
  {
   "cell_type": "code",
   "execution_count": null,
   "metadata": {
    "ExecuteTime": {
     "end_time": "2023-04-13T00:42:06.098172Z",
     "start_time": "2023-04-13T00:42:06.068404Z"
    }
   },
   "outputs": [],
   "source": [
    "categorical_best_for_each_df"
   ]
  },
  {
   "cell_type": "code",
   "execution_count": null,
   "metadata": {
    "ExecuteTime": {
     "end_time": "2023-04-13T00:44:03.670014Z",
     "start_time": "2023-04-13T00:44:03.146046Z"
    }
   },
   "outputs": [],
   "source": [
    "# Create a subset of the data containing only the 'threshold' and 'best_model' columns\n",
    "subset = df[['threshold', 'best_model']]\n",
    "\n",
    "# Group the subset by threshold and count the number of occurrences of each value of 'best_model'\n",
    "grouped = subset.groupby('threshold')['best_model'].value_counts(normalize=True).unstack()\n",
    "\n",
    "# Plot the stacked bar chart\n",
    "ax = grouped.plot(kind='bar', stacked=True, figsize=(10, 6))\n",
    "\n",
    "# Set the chart title and axes labels\n",
    "ax.set_title('Distribution of Best Model by Threshold')\n",
    "ax.set_xlabel('Threshold')\n",
    "ax.set_ylabel('Proportion of Models')\n",
    "\n",
    "# Move the legend outside of the chart\n",
    "ax.legend(loc='center left', bbox_to_anchor=(1, 0.5))\n",
    "\n",
    "# Show the chart\n",
    "plt.show()\n"
   ]
  },
  {
   "cell_type": "code",
   "execution_count": null,
   "metadata": {
    "ExecuteTime": {
     "end_time": "2023-04-13T01:07:35.498045Z",
     "start_time": "2023-04-13T01:07:34.169678Z"
    }
   },
   "outputs": [],
   "source": [
    "df =categorical_best_for_each_df \n",
    "# Create a subset of the data containing only the 'best_model', 'mean_fit_time' and 'std_fit_time' columns\n",
    "subset = df[['best_model', 'mean_fit_time', 'std_fit_time']]\n",
    "\n",
    "# Group the subset by 'best_model' and calculate the average 'mean_fit_time' and 'std_fit_time' for each group\n",
    "grouped = subset.groupby('best_model').mean().reset_index()\n",
    "\n",
    "# Set the width of each bar and the positions of the x ticks\n",
    "bar_width = 0.35\n",
    "x_pos = np.arange(len(grouped))\n",
    "\n",
    "# Create a bar chart for the average 'mean_fit_time'\n",
    "plt.bar(x_pos, grouped['mean_fit_time'], width=bar_width, label='Mean Fit Time')\n",
    "\n",
    "# Create a bar chart for the average 'std_fit_time'\n",
    "plt.bar(x_pos + bar_width, grouped['std_fit_time'], width=bar_width, label='Std Fit Time')\n",
    "\n",
    "# Set the chart title and axes labels\n",
    "plt.title('Average Mean Fit Time and Std Fit Time by Best Model')\n",
    "plt.xlabel('Best Model')\n",
    "plt.ylabel('Time (s)')\n",
    "plt.xticks(x_pos + bar_width / 2, grouped['best_model'], rotation=45, ha='right')\n",
    "plt.legend()\n",
    "\n",
    "# Show the chart\n",
    "plt.show()"
   ]
  },
  {
   "cell_type": "markdown",
   "metadata": {},
   "source": [
    "##  categorical_all_df\n",
    "for each cat-threshold-column, showing the performance of the best classifier which was used to fit. \n",
    "This should be just the subset of the above dataframe"
   ]
  },
  {
   "cell_type": "code",
   "execution_count": null,
   "metadata": {
    "ExecuteTime": {
     "end_time": "2023-04-09T02:27:18.828018Z",
     "start_time": "2023-04-09T02:27:18.741790Z"
    }
   },
   "outputs": [],
   "source": [
    "categorical_all_df"
   ]
  },
  {
   "cell_type": "code",
   "execution_count": null,
   "metadata": {
    "ExecuteTime": {
     "end_time": "2023-04-13T00:57:46.465019Z",
     "start_time": "2023-04-13T00:57:45.919295Z"
    }
   },
   "outputs": [],
   "source": [
    "df = categorical_all_df\n",
    "# Create a subset of the data containing only the 'threshold' and 'best_model' columns\n",
    "subset = df[['threshold', 'model']]\n",
    "\n",
    "# Group the subset by threshold and count the number of occurrences of each value of 'best_model'\n",
    "grouped = subset.groupby('threshold')['model'].value_counts(normalize=True).unstack()\n",
    "\n",
    "# Plot the stacked bar chart\n",
    "ax = grouped.plot(kind='bar', stacked=True, figsize=(10, 6))\n",
    "\n",
    "# Set the chart title and axes labels\n",
    "ax.set_title('Distribution of Best Model by Threshold')\n",
    "ax.set_xlabel('Threshold')\n",
    "ax.set_ylabel('Proportion of Models')\n",
    "\n",
    "# Move the legend outside of the chart\n",
    "ax.legend(loc='center left', bbox_to_anchor=(1, 0.5))\n",
    "\n",
    "# Show the chart\n",
    "plt.show()\n"
   ]
  }
 ],
 "metadata": {
  "kernelspec": {
   "display_name": "py39",
   "language": "python",
   "name": "py39"
  },
  "language_info": {
   "codemirror_mode": {
    "name": "ipython",
    "version": 3
   },
   "file_extension": ".py",
   "mimetype": "text/x-python",
   "name": "python",
   "nbconvert_exporter": "python",
   "pygments_lexer": "ipython3",
   "version": "3.9.1"
  },
  "toc": {
   "base_numbering": 1,
   "nav_menu": {},
   "number_sections": true,
   "sideBar": true,
   "skip_h1_title": false,
   "title_cell": "Table of Contents",
   "title_sidebar": "Contents",
   "toc_cell": false,
   "toc_position": {},
   "toc_section_display": true,
   "toc_window_display": false
  },
  "varInspector": {
   "cols": {
    "lenName": 16,
    "lenType": 16,
    "lenVar": 40
   },
   "kernels_config": {
    "python": {
     "delete_cmd_postfix": "",
     "delete_cmd_prefix": "del ",
     "library": "var_list.py",
     "varRefreshCmd": "print(var_dic_list())"
    },
    "r": {
     "delete_cmd_postfix": ") ",
     "delete_cmd_prefix": "rm(",
     "library": "var_list.r",
     "varRefreshCmd": "cat(var_dic_list()) "
    }
   },
   "types_to_exclude": [
    "module",
    "function",
    "builtin_function_or_method",
    "instance",
    "_Feature"
   ],
   "window_display": false
  }
 },
 "nbformat": 4,
 "nbformat_minor": 2
}
