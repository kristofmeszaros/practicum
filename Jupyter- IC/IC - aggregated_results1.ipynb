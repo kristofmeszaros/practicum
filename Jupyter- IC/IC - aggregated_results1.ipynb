{
 "cells": [
  {
   "cell_type": "markdown",
   "metadata": {},
   "source": [
    "# aggregated results"
   ]
  },
  {
   "cell_type": "code",
   "execution_count": null,
   "metadata": {
    "ExecuteTime": {
     "end_time": "2023-04-12T14:34:59.930866Z",
     "start_time": "2023-04-12T14:34:56.650344Z"
    }
   },
   "outputs": [],
   "source": [
    "import os\n",
    "import numpy as np\n",
    "import pandas as pd\n",
    "import seaborn as sns\n",
    "import matplotlib.pyplot as plt\n",
    "from mpl_toolkits.mplot3d import Axes3D\n",
    "from pandas.plotting import scatter_matrix\n",
    "\n",
    "# Set the path to the folder containing the CSV files\n",
    "RESULTS_FOLDER = '/kristof.meszaros/pract/aggregated_results'\n",
    "\n",
    "# Create empty lists for each type of file\n",
    "mice_best_overall_files = []\n",
    "mice_best_for_each_files = []\n",
    "categorical_best_for_each_files = []\n",
    "categorical_all_files = []\n",
    "\n",
    "# Loop through all files in the folder\n",
    "for file_name in os.listdir(RESULTS_FOLDER):\n",
    "    # Check if the file is a CSV file\n",
    "    if file_name.endswith('.csv'):\n",
    "        # Get the category number and threshold from the file name\n",
    "        category_number = int(file_name.split('_')[0][3:])\n",
    "        threshold = int(file_name.split('_')[1][9:])\n",
    "        \n",
    "        # Read in the CSV file and add two columns for category number and threshold\n",
    "        df = pd.read_csv(os.path.join(RESULTS_FOLDER, file_name))\n",
    "        df.insert(0,'category_number', category_number)\n",
    "        df.insert(1,'threshold', threshold)\n",
    "        \n",
    "        # Append the DataFrame to the appropriate list based on the file name pattern\n",
    "        if 'mice_best_overall' in file_name:\n",
    "            mice_best_overall_files.append(df)\n",
    "        elif 'mice_best_for_each' in file_name:\n",
    "            mice_best_for_each_files.append(df)\n",
    "        elif 'categorical_best_for_each' in file_name:\n",
    "            categorical_best_for_each_files.append(df)\n",
    "        elif 'categorical_all' in file_name:\n",
    "            categorical_all_files.append(df)\n",
    "            \n",
    "# Concatenate the DataFrames for each type of file into a single DataFrame\n",
    "mice_best_overall_df = pd.concat(mice_best_overall_files, ignore_index=True)\n",
    "mice_best_for_each_df = pd.concat(mice_best_for_each_files, ignore_index=True)\n",
    "categorical_best_for_each_df = pd.concat(categorical_best_for_each_files, ignore_index=True)\n",
    "categorical_all_df = pd.concat(categorical_all_files, ignore_index=True)"
   ]
  },
  {
   "cell_type": "markdown",
   "metadata": {},
   "source": [
    "##  mice_best_overall_df\n",
    "for each cat-threshold, the overall best MICE estimator's performance on each numerical column"
   ]
  },
  {
   "cell_type": "code",
   "execution_count": null,
   "metadata": {
    "ExecuteTime": {
     "end_time": "2023-04-12T14:35:05.551643Z",
     "start_time": "2023-04-12T14:35:05.551611Z"
    }
   },
   "outputs": [],
   "source": [
    "mice_best_overall_df"
   ]
  },
  {
   "cell_type": "code",
   "execution_count": null,
   "metadata": {},
   "outputs": [],
   "source": [
    "color_map = {30: 'red',\n",
    "             50: 'green',\n",
    "             100: 'blue'}\n",
    "marker_map = {'Support Vector Regression': 'o',\n",
    "              'KNN': 's',\n",
    "              'Elastic Net': '^',\n",
    "              'Random Forest': '*',\n",
    "              'Bayesian Ridge': '+', \n",
    "              'Mean': 'x', \n",
    "              'Median': 'd'}\n",
    "fig = plt.figure()\n",
    "ax = fig.add_subplot(111, projection='3d')\n",
    "for i in mice_best_overall_df['threshold'].unique():\n",
    "    subset = mice_best_overall_df[mice_best_overall_df['threshold'] == i]\n",
    "    for j in subset['best_overall_model'].unique():\n",
    "        x = subset[subset['best_overall_model'] == j]['rmse']\n",
    "        y = subset[subset['best_overall_model'] == j]['mae']\n",
    "        z = subset[subset['best_overall_model'] == j]['correlation']\n",
    "        ax.scatter(x, y, z, c=color_map[i], marker=marker_map[j], label=i)\n",
    "ax.legend()"
   ]
  },
  {
   "cell_type": "code",
   "execution_count": null,
   "metadata": {
    "ExecuteTime": {
     "end_time": "2023-04-12T14:35:33.434196Z",
     "start_time": "2023-04-12T14:35:32.409207Z"
    }
   },
   "outputs": [],
   "source": [
    "group_model = mice_best_overall_df.groupby(['threshold','best_overall_model']).agg({'rmse':'mean', 'mae':'mean', 'correlation': 'mean'}).reset_index()\n",
    "fig, ax = plt.subplots()\n",
    "sns.scatterplot(data=group_model, x='rmse', y='mae', size='correlation', hue='threshold', style='best_overall_model', sizes=(10, 200))\n",
    "ax.set_xlabel('RMSE')\n",
    "ax.set_ylabel('MAE')\n",
    "ax.legend(title=None, fontsize=8, loc='lower right', bbox_to_anchor=(1.4, 0))\n",
    "plt.show()"
   ]
  },
  {
   "cell_type": "code",
   "execution_count": null,
   "metadata": {
    "ExecuteTime": {
     "end_time": "2023-04-12T14:36:46.848948Z",
     "start_time": "2023-04-12T14:36:46.040581Z"
    }
   },
   "outputs": [],
   "source": [
    "group_model = mice_best_overall_df.groupby(['threshold','best_overall_model']).agg({'rmse':'mean', 'mae':'mean'}).reset_index()\n",
    "fig, ax = plt.subplots()\n",
    "sns.scatterplot(data=group_model, x='rmse', y='mae', size=10, hue='threshold', style='best_overall_model', sizes=(10, 200))\n",
    "ax.set_xlabel('RMSE')\n",
    "ax.set_ylabel('MAE')\n",
    "ax.legend(title=None, fontsize=8, loc='lower right', bbox_to_anchor=(1.4, 0))\n",
    "plt.show()"
   ]
  },
  {
   "cell_type": "code",
   "execution_count": null,
   "metadata": {},
   "outputs": [],
   "source": [
    "new_mice_best_overall_df = pd.DataFrame()\n",
    "for k, v in mice_best_overall_df.groupby('category_number').groups.items():\n",
    "    sub_group = mice_best_overall_df.groupby('category_number').get_group(k).copy()\n",
    "    number_of_columns = sub_group.groupby('threshold')['column'].count().to_dict()\n",
    "    sub_group['number_of_columns'] = sub_group['threshold'].map(number_of_columns)\n",
    "    new_mice_best_overall_df = pd.concat([new_mice_best_overall_df, sub_group], axis=0)\n",
    "new_mice_best_overall_df"
   ]
  },
  {
   "cell_type": "code",
   "execution_count": null,
   "metadata": {},
   "outputs": [],
   "source": [
    "groups = mice_best_overall_df.groupby('category_number')\n",
    "group_1531 = groups.get_group(1531).copy()\n",
    "number_of_columns = group_1531.groupby('threshold')['column'].count().to_dict()\n",
    "group_1531['number_of_columns'] = group_1531['threshold'].map(number_of_columns)\n",
    "groups = group_1531.groupby('column')\n",
    "group_depth = groups.get_group('Depth.1650')\n",
    "\n",
    "x = np.arange(len(group_depth))\n",
    "fig, ax1 = plt.subplots()\n",
    "ax2 = ax1.twinx()\n",
    "\n",
    "# plot bar chart\n",
    "bar_width = 0.4\n",
    "ax1.bar(x - bar_width/2, group_depth['number_of_columns'], width=bar_width, alpha=0.8, label='number of columns')\n",
    "\n",
    "# plot line chart\n",
    "ax2.plot(x, group_depth['rmse'], 'go-', alpha=0.8, label='RMSE')\n",
    "ax2.plot(x, group_depth['mae'], 'ro-', alpha=0.8, label='MAE')\n",
    "ax2.plot(x, group_depth['correlation'], 'yo-', alpha=0.8, label='correlation')\n",
    "\n",
    "# set x-axis ticks and labels\n",
    "ax1.set_xticks(x-0.2)\n",
    "ax1.set_xticklabels(group_depth['threshold'])\n",
    "\n",
    "# set y-axis labels and title\n",
    "ax1.set_ylabel('Number of Columns')\n",
    "ax2.set_ylabel('Error Values')\n",
    "ax1.set_xlabel('Model')\n",
    "# ax1.set_title('RMSE and MAE for different threshold types')\n",
    "\n",
    "# add legend\n",
    "handles1, labels1 = ax1.get_legend_handles_labels()\n",
    "handles2, labels2 = ax2.get_legend_handles_labels()\n",
    "ax1.legend(handles1 + handles2, labels1 + labels2, loc='upper right')\n",
    "\n",
    "# show plot\n",
    "plt.show()\n",
    "group_depth"
   ]
  },
  {
   "cell_type": "code",
   "execution_count": null,
   "metadata": {},
   "outputs": [],
   "source": [
    "group_by_model = mice_best_overall_df.groupby('best_overall_model').agg({'best_overall_model': 'count', 'rmse':'mean','mae':'mean'})\n",
    "group_by_model.columns = pd.Series(['count', 'rmse', 'mae'])\n",
    "group_by_model = group_by_model.reset_index()\n",
    "x = np.arange(len(group_by_model))\n",
    "\n",
    "fig, ax1 = plt.subplots()\n",
    "ax2 = ax1.twinx()\n",
    "\n",
    "# plot bar chart\n",
    "bar_width = 0.4\n",
    "ax1.bar(x - bar_width/2, group_by_model['count'], width=bar_width, alpha=0.8, label='count')\n",
    "\n",
    "# plot line chart\n",
    "ax2.plot(x, group_by_model['rmse'], 'go-', alpha=0.8, label='RMSE')\n",
    "ax2.plot(x, group_by_model['mae'], 'ro-', alpha=0.8, label='MAE')\n",
    "\n",
    "# set x-axis ticks and labels\n",
    "ax1.set_xticks(x-0.5)\n",
    "ax1.set_xticklabels(group_by_model['best_overall_model'], rotation=15, fontsize=8)\n",
    "\n",
    "# set y-axis labels and title\n",
    "ax1.set_ylabel('Number of Columns')\n",
    "ax2.set_ylabel('Error Values')\n",
    "ax1.set_xlabel('Model')\n",
    "# ax1.set_title('RMSE and MAE for different threshold types')\n",
    "\n",
    "# add legend\n",
    "handles1, labels1 = ax1.get_legend_handles_labels()\n",
    "handles2, labels2 = ax2.get_legend_handles_labels()\n",
    "ax1.legend(handles1 + handles2, labels1 + labels2, loc='upper left')\n",
    "\n",
    "# show plot\n",
    "plt.show()"
   ]
  },
  {
   "cell_type": "markdown",
   "metadata": {},
   "source": [
    "##  mice_best_for_each_df\n",
    "for each cat-threshold-column, the best performing estimator in MICE (we chose the above for fitting, but this\n",
    "might be intertesting to see)"
   ]
  },
  {
   "cell_type": "code",
   "execution_count": null,
   "metadata": {
    "ExecuteTime": {
     "end_time": "2023-04-13T00:17:32.440427Z",
     "start_time": "2023-04-13T00:17:32.366555Z"
    }
   },
   "outputs": [],
   "source": [
    "mice_best_for_each_df[mice_best_for_each_df['category_number']==1531]"
   ]
  },
  {
   "cell_type": "code",
   "execution_count": null,
   "metadata": {},
   "outputs": [],
   "source": [
    "group_model = mice_best_for_each_df.groupby(['threshold', 'best_model'])['category_number'].count().unstack(level=-1).reset_index()\n",
    "ax = group_model[['Bayesian Ridge', 'Elastic Net', 'KNN', 'Mean', 'Median', 'Random Forest', 'Support Vector Regression']].plot.barh(stacked=True)\n",
    "ax.set_yticklabels(group_model['threshold'])\n",
    "ax.set_xlabel('Number of columns')\n",
    "ax.set_ylabel('Threshold')\n",
    "plt.legend(loc='upper right', fontsize=8)\n",
    "plt.show()\n",
    "# group_model"
   ]
  },
  {
   "cell_type": "code",
   "execution_count": null,
   "metadata": {},
   "outputs": [],
   "source": [
    "group_performance = pd.DataFrame()\n",
    "for k, v in mice_best_for_each_df.groupby(['category_number','threshold', 'best_model']).groups.items():\n",
    "    sub_group = mice_best_for_each_df.groupby(['category_number','threshold', 'best_model']).get_group(k)\n",
    "    if sub_group.shape[0] > 1:\n",
    "        group_performance = pd.concat([group_performance, sub_group.groupby(['category_number','threshold', 'best_model']).agg({'rmse':'mean','mae':'mean','correlation':'mean'}).reset_index()])\n",
    "group_performance.reset_index(drop=True, inplace=True)\n",
    "\n",
    "group = group_performance.groupby('category_number')\n",
    "result_df = pd.DataFrame()\n",
    "\n",
    "for group_name, group_df in group:\n",
    "    max_row = group_df.loc[group_df['rmse'].idxmax()]\n",
    "    result_df = pd.concat([result_df, max_row], axis=1)\n",
    "result_df = result_df.T\n",
    "\n",
    "fig, (ax1, ax2, ax3) = plt.subplots(1, 3, figsize=(18,9))\n",
    "sns.scatterplot(data=result_df[result_df['threshold']==30], x='category_number', y='rmse', hue='best_model', style='best_model', ax=ax1)\n",
    "ax1.set_title('Threshold: 30')\n",
    "ax1.legend(title=None)\n",
    "sns.scatterplot(data=result_df[result_df['threshold']==50], x='category_number', y='rmse', hue='best_model', style='best_model', ax=ax2)\n",
    "ax2.set_title('Threshold: 50')\n",
    "ax2.legend(title=None)\n",
    "sns.scatterplot(data=result_df[result_df['threshold']==100], x='category_number', y='rmse', hue='best_model', style='best_model', ax=ax3)\n",
    "ax3.set_title('Threshold: 100')\n",
    "ax3.legend(title=None)\n",
    "plt.show()"
   ]
  },
  {
   "cell_type": "code",
   "execution_count": null,
   "metadata": {
    "ExecuteTime": {
     "end_time": "2023-04-13T01:33:03.683253Z",
     "start_time": "2023-04-13T01:33:00.210001Z"
    }
   },
   "outputs": [],
   "source": [
    "for k, v in mice_best_for_each_df.groupby('column').groups.items():\n",
    "    if len(mice_best_for_each_df.groupby('column').get_group(k)['category_number'].unique()) > 1:\n",
    "        sub_group = mice_best_for_each_df.groupby('column').get_group(k)\n",
    "        for i, j in sub_group.groupby(['threshold', 'column']).groups.items():\n",
    "            if sub_group.groupby(['threshold', 'column']).get_group(i).shape[0] == 49:\n",
    "                exp_df = sub_group.groupby(['threshold', 'column']).get_group(i)\n",
    "                print(i)\n",
    "exp_df = exp_df[exp_df.rmse<120]\n",
    "sns.scatterplot(data=exp_df, x='rmse', y='correlation', hue='best_model', style='best_model')\n",
    "plt.xlabel('RMSE', fontsize=10)\n",
    "plt.ylabel('Correlation', fontsize=10)\n",
    "plt.legend(title=None, fontsize=8)"
   ]
  },
  {
   "cell_type": "code",
   "execution_count": null,
   "metadata": {
    "ExecuteTime": {
     "end_time": "2023-04-13T01:32:24.665314Z",
     "start_time": "2023-04-13T01:32:24.593248Z"
    }
   },
   "outputs": [],
   "source": [
    "exp_df"
   ]
  },
  {
   "cell_type": "code",
   "execution_count": null,
   "metadata": {},
   "outputs": [],
   "source": [
    "group_by_threshold = mice_best_for_each_df.groupby('threshold').agg({'rmse':'mean','mae':'mean'}).reset_index()\n",
    "\n",
    "fig, ax = plt.subplots()\n",
    "index = np.arange(len(group_by_threshold))\n",
    "bar_width = 0.35\n",
    "opacity = 0.8\n",
    "\n",
    "rects1 = ax.bar(index, group_by_threshold['rmse'], bar_width, alpha=opacity, label='RMSE')\n",
    "rects2 = ax.bar(index + bar_width, group_by_threshold['mae'], bar_width, alpha=opacity, label='MAE')\n",
    "\n",
    "ax.set_xlabel('Threshold')\n",
    "ax.set_ylabel('Error Values')\n",
    "ax.set_xticks(index + bar_width / 2)\n",
    "ax.set_xticklabels(group_by_threshold['threshold'])\n",
    "ax.legend()\n",
    "\n",
    "plt.show()\n",
    "# sns.barplot(x = 'threshold', y = 'rmse', data = mice_best_overall_df)"
   ]
  },
  {
   "cell_type": "markdown",
   "metadata": {},
   "source": [
    "##  categorical_all_df\n",
    "for each cat-threshold-column, showing the performance of each classifier"
   ]
  },
  {
   "cell_type": "code",
   "execution_count": null,
   "metadata": {
    "ExecuteTime": {
     "end_time": "2023-04-09T02:27:18.828018Z",
     "start_time": "2023-04-09T02:27:18.741790Z"
    }
   },
   "outputs": [],
   "source": [
    "categorical_all_df"
   ]
  },
  {
   "cell_type": "code",
   "execution_count": null,
   "metadata": {},
   "outputs": [],
   "source": [
    "group_threshold = categorical_all_df.groupby(['threshold', 'model']).agg({'column': 'count', 'mean_fit_time':'mean','mean_test_score':'mean'}).reset_index()\n",
    "fig, ax1 = plt.subplots()\n",
    "sns.barplot(data=group_threshold, x='model', y='mean_fit_time', hue='threshold', ax=ax1)\n",
    "ax2 = ax1.twinx()\n",
    "# Add a line plot of the profit data on the same chart\n",
    "sns.lineplot(data=group_threshold, x='model', y='mean_test_score', hue='threshold', marker='o', ax=ax2)\n",
    "ax1.set_xticklabels(ax.get_xticklabels(), fontsize=8, rotation=15)\n",
    "ax1.legend(fontsize=8, title='threshold', title_fontsize=8)\n",
    "ax2.legend(fontsize=8, title='threshold', title_fontsize=8)"
   ]
  },
  {
   "cell_type": "markdown",
   "metadata": {},
   "source": [
    "##  categorical_best_for_each_df\n",
    "for each cat-threshold-column, showing the performance of the best classifier which was used to fit. \n",
    "This should be just the subset of the above dataframe"
   ]
  },
  {
   "cell_type": "code",
   "execution_count": null,
   "metadata": {
    "ExecuteTime": {
     "end_time": "2023-04-09T02:19:22.379015Z",
     "start_time": "2023-04-09T02:19:22.295973Z"
    }
   },
   "outputs": [],
   "source": [
    "categorical_best_for_each_df"
   ]
  },
  {
   "cell_type": "code",
   "execution_count": null,
   "metadata": {},
   "outputs": [],
   "source": [
    "group_model = categorical_best_for_each_df.groupby(['threshold', 'best_model'])['category_number'].count().unstack(level=-1).reset_index()\n",
    "ax = group_model[['KNN', 'Logistic Regression', 'Most Frequent', 'Naive Bayes', 'Random Forest', 'Support Vector Classifier']].plot.barh(stacked=True)\n",
    "ax.set_yticklabels(group_model['threshold'])\n",
    "ax.set_xlabel('Number of columns')\n",
    "ax.set_ylabel('Threshold')\n",
    "plt.legend(loc='upper right', fontsize=8)\n",
    "plt.show()"
   ]
  },
  {
   "cell_type": "code",
   "execution_count": null,
   "metadata": {},
   "outputs": [],
   "source": [
    "group_performance = pd.DataFrame()\n",
    "for k, v in categorical_best_for_each_df.groupby(['category_number','threshold', 'best_model']).groups.items():\n",
    "    sub_group = categorical_best_for_each_df.groupby(['category_number','threshold', 'best_model']).get_group(k)\n",
    "    if sub_group.shape[0] > 1:\n",
    "        group_performance = pd.concat([group_performance, sub_group.groupby(['category_number','threshold', 'best_model'])['accuracy'].mean().reset_index()])\n",
    "group_performance.reset_index(drop=True, inplace=True)\n",
    "\n",
    "group = group_performance.groupby('category_number')\n",
    "result_df = pd.DataFrame()\n",
    "\n",
    "for group_name, group_df in group:\n",
    "    max_row = group_df.loc[group_df['accuracy'].idxmax()]\n",
    "    result_df = pd.concat([result_df, max_row], axis=1)\n",
    "result_df = result_df.T\n",
    "\n",
    "fig, (ax1, ax2, ax3) = plt.subplots(1, 3, figsize=(18,9))\n",
    "sns.scatterplot(data=result_df[result_df['threshold']==30], x='category_number', y='accuracy', hue='best_model', style='best_model', ax=ax1)\n",
    "ax1.set_title('Threshold: 30')\n",
    "ax1.legend(title=None)\n",
    "sns.scatterplot(data=result_df[result_df['threshold']==50], x='category_number', y='accuracy', hue='best_model', style='best_model', ax=ax2)\n",
    "ax2.set_title('Threshold: 50')\n",
    "ax2.legend(title=None)\n",
    "sns.scatterplot(data=result_df[result_df['threshold']==100], x='category_number', y='accuracy', hue='best_model', style='best_model', ax=ax3)\n",
    "ax3.set_title('Threshold: 100')\n",
    "ax3.legend(title=None)\n",
    "plt.show()\n",
    "\n",
    "# plt.figure(figsize=(20, 10))\n",
    "# sns.scatterplot(data=result_df, x='category_number', y='accuracy', hue='best_model', style='best_model', s=200)\n",
    "# plt.xlabel('Category number', fontsize=14)\n",
    "# plt.ylabel('Accuracy', fontsize=14)\n",
    "# plt.legend(title=None, fontsize=14)"
   ]
  },
  {
   "cell_type": "code",
   "execution_count": null,
   "metadata": {
    "ExecuteTime": {
     "end_time": "2023-04-13T01:47:29.323285Z",
     "start_time": "2023-04-13T01:47:25.611023Z"
    }
   },
   "outputs": [],
   "source": [
    "for k, v in categorical_best_for_each_df.groupby('column').groups.items():\n",
    "    if len(categorical_best_for_each_df.groupby('column').get_group(k)['category_number'].unique()) > 1:\n",
    "        sub_group = categorical_best_for_each_df.groupby('column').get_group(k)\n",
    "        for i, j in sub_group.groupby(['threshold', 'column']).groups.items():\n",
    "            if sub_group.groupby(['threshold', 'column']).get_group(i).shape[0] == 26:\n",
    "                exp_df = sub_group.groupby(['threshold', 'column']).get_group(i)\n",
    "                print(i)\n",
    "sns.scatterplot(data=exp_df, x='f1', y='accuracy', hue='best_model', style='best_model')\n",
    "plt.xlabel('f1', fontsize=10)\n",
    "plt.ylabel('Accuracy', fontsize=10)\n",
    "plt.legend(title=None, fontsize=8)"
   ]
  },
  {
   "cell_type": "code",
   "execution_count": null,
   "metadata": {},
   "outputs": [],
   "source": []
  }
 ],
 "metadata": {
  "kernelspec": {
   "display_name": "py39",
   "language": "python",
   "name": "py39"
  },
  "language_info": {
   "codemirror_mode": {
    "name": "ipython",
    "version": 3
   },
   "file_extension": ".py",
   "mimetype": "text/x-python",
   "name": "python",
   "nbconvert_exporter": "python",
   "pygments_lexer": "ipython3",
   "version": "3.9.1"
  },
  "toc": {
   "base_numbering": 1,
   "nav_menu": {},
   "number_sections": true,
   "sideBar": true,
   "skip_h1_title": false,
   "title_cell": "Table of Contents",
   "title_sidebar": "Contents",
   "toc_cell": false,
   "toc_position": {},
   "toc_section_display": true,
   "toc_window_display": false
  },
  "varInspector": {
   "cols": {
    "lenName": 16,
    "lenType": 16,
    "lenVar": 40
   },
   "kernels_config": {
    "python": {
     "delete_cmd_postfix": "",
     "delete_cmd_prefix": "del ",
     "library": "var_list.py",
     "varRefreshCmd": "print(var_dic_list())"
    },
    "r": {
     "delete_cmd_postfix": ") ",
     "delete_cmd_prefix": "rm(",
     "library": "var_list.r",
     "varRefreshCmd": "cat(var_dic_list()) "
    }
   },
   "types_to_exclude": [
    "module",
    "function",
    "builtin_function_or_method",
    "instance",
    "_Feature"
   ],
   "window_display": false
  }
 },
 "nbformat": 4,
 "nbformat_minor": 2
}
